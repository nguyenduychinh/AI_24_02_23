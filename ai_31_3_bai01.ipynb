{
  "nbformat": 4,
  "nbformat_minor": 0,
  "metadata": {
    "colab": {
      "provenance": [],
      "authorship_tag": "ABX9TyNRWvVPm7d2KVRVlQmftAO0",
      "include_colab_link": true
    },
    "kernelspec": {
      "name": "python3",
      "display_name": "Python 3"
    },
    "language_info": {
      "name": "python"
    }
  },
  "cells": [
    {
      "cell_type": "markdown",
      "metadata": {
        "id": "view-in-github",
        "colab_type": "text"
      },
      "source": [
        "<a href=\"https://colab.research.google.com/github/nguyenduychinh/AI_24_02_23/blob/main/ai_31_3_bai01.ipynb\" target=\"_parent\"><img src=\"https://colab.research.google.com/assets/colab-badge.svg\" alt=\"Open In Colab\"/></a>"
      ]
    },
    {
      "cell_type": "code",
      "execution_count": null,
      "metadata": {
        "id": "sNDWTkhWQnt5"
      },
      "outputs": [],
      "source": [
        "from keras.datasets import mnist #MNNIST là thư viện viết tay\n"
      ]
    },
    {
      "cell_type": "code",
      "source": [
        "(train_images,train_labels),(test_images,test_labels)= mnist.load_data()\n",
        "train_images.shape\n",
        "\n"
      ],
      "metadata": {
        "colab": {
          "base_uri": "https://localhost:8080/"
        },
        "id": "a8HPbGZHRbmZ",
        "outputId": "e47fe7c8-a341-456d-a0b0-9664fed57e85"
      },
      "execution_count": null,
      "outputs": [
        {
          "output_type": "execute_result",
          "data": {
            "text/plain": [
              "(60000, 28, 28)"
            ]
          },
          "metadata": {},
          "execution_count": 20
        }
      ]
    },
    {
      "cell_type": "code",
      "source": [
        "train_labels.shape"
      ],
      "metadata": {
        "colab": {
          "base_uri": "https://localhost:8080/"
        },
        "id": "EIWQM81eR730",
        "outputId": "0dd54d98-c251-40c2-f1ba-c8b3f95e218c"
      },
      "execution_count": null,
      "outputs": [
        {
          "output_type": "execute_result",
          "data": {
            "text/plain": [
              "(60000,)"
            ]
          },
          "metadata": {},
          "execution_count": 3
        }
      ]
    },
    {
      "cell_type": "code",
      "source": [
        "test_images.shape"
      ],
      "metadata": {
        "colab": {
          "base_uri": "https://localhost:8080/"
        },
        "id": "xMoIuqErTId2",
        "outputId": "e7daaa7e-4210-4e32-fa41-0eec663ff7b4"
      },
      "execution_count": null,
      "outputs": [
        {
          "output_type": "execute_result",
          "data": {
            "text/plain": [
              "(10000, 28, 28)"
            ]
          },
          "metadata": {},
          "execution_count": 4
        }
      ]
    },
    {
      "cell_type": "code",
      "source": [
        "test_labels.shape"
      ],
      "metadata": {
        "colab": {
          "base_uri": "https://localhost:8080/"
        },
        "id": "LBZCryGNTQQl",
        "outputId": "637cd1fc-a8c8-44f0-d78a-621b7f2929c3"
      },
      "execution_count": null,
      "outputs": [
        {
          "output_type": "execute_result",
          "data": {
            "text/plain": [
              "(10000,)"
            ]
          },
          "metadata": {},
          "execution_count": 5
        }
      ]
    },
    {
      "cell_type": "code",
      "source": [
        "digit=train_images[6000]\n",
        "import matplotlib.pyplot as plt\n",
        "plt.imshow(digit)\n",
        "plt.show\n",
        "print (\"Số máy là:\",train_labels[6000])"
      ],
      "metadata": {
        "colab": {
          "base_uri": "https://localhost:8080/",
          "height": 448
        },
        "id": "I7UB_vB-TTl0",
        "outputId": "5e74d302-e078-4f60-9238-4cb8f4181ede"
      },
      "execution_count": null,
      "outputs": [
        {
          "output_type": "stream",
          "name": "stdout",
          "text": [
            "Số máy là: 6\n"
          ]
        },
        {
          "output_type": "display_data",
          "data": {
            "text/plain": [
              "<Figure size 640x480 with 1 Axes>"
            ],
            "image/png": "[encoded data removed]"
          },
          "metadata": {}
        }
      ]
    },
    {
      "cell_type": "code",
      "source": [
        "for i in range(10):\n",
        "    plt.subplot(3,5,i+1)\n",
        "    plt.tight_layout\n",
        "    plt.imshow(train_images[i],cmap='gray',\n",
        "               interpolation='none')\n",
        "    plt.title(\"So may la:{}\".format(train_labels[i]))\n",
        "    plt.xticks([])\n",
        "    plt.yticks([])"
      ],
      "metadata": {
        "colab": {
          "base_uri": "https://localhost:8080/",
          "height": 275
        },
        "id": "CWKWFzGkT7dG",
        "outputId": "366ead0c-d69a-4de2-84d6-0a8afdcc3292"
      },
      "execution_count": null,
      "outputs": [
        {
          "output_type": "display_data",
          "data": {
            "text/plain": [
              "<Figure size 640x480 with 10 Axes>"
            ],
            "image/png": "[encoded data removed]"
          },
          "metadata": {}
        }
      ]
    },
    {
      "cell_type": "code",
      "source": [
        "for i in range(10):\n",
        "    plt.subplot(3,5,i+1)\n",
        "    plt.tight_layout\n",
        "    plt.imshow(train_images[i+100],cmap='gray',\n",
        "               interpolation='none')\n",
        "    plt.title(\"So may la:{}\".format(train_labels[i]))\n",
        "    plt.xticks([])\n",
        "    plt.yticks([])"
      ],
      "metadata": {
        "colab": {
          "base_uri": "https://localhost:8080/",
          "height": 275
        },
        "id": "H4TOzVpvVgAr",
        "outputId": "25bbe105-a8c7-4e67-d7db-f271e661620b"
      },
      "execution_count": null,
      "outputs": [
        {
          "output_type": "display_data",
          "data": {
            "text/plain": [
              "<Figure size 640x480 with 10 Axes>"
            ],
            "image/png": "[encoded data removed]"
          },
          "metadata": {}
        }
      ]
    },
    {
      "cell_type": "code",
      "source": [
        "from keras.models import Sequential #ANN theo tuần tự các lớp kết tiếp liên tục nhau \n",
        "from keras.layers import Dense # full conectel kết nối đầy đủ \n",
        "model=Sequential()\n",
        "model.add(Dense(512,activation='relu',input_shape=(28*28,)))\n",
        "model.add(Dense(10,activation='softmax'))\n",
        "model.summary()"
      ],
      "metadata": {
        "colab": {
          "base_uri": "https://localhost:8080/"
        },
        "id": "vcCRHavBWK-_",
        "outputId": "3068c9aa-1597-4b42-a1e8-b19dd3f931b4"
      },
      "execution_count": null,
      "outputs": [
        {
          "output_type": "stream",
          "name": "stdout",
          "text": [
            "Model: \"sequential\"\n",
            "_________________________________________________________________\n",
            " Layer (type)                Output Shape              Param #   \n",
            "=================================================================\n",
            " dense (Dense)               (None, 512)               401920    \n",
            "                                                                 \n",
            " dense_1 (Dense)             (None, 10)                5130      \n",
            "                                                                 \n",
            "=================================================================\n",
            "Total params: 407,050\n",
            "Trainable params: 407,050\n",
            "Non-trainable params: 0\n",
            "_________________________________________________________________\n"
          ]
        }
      ]
    },
    {
      "cell_type": "code",
      "source": [
        "train_images = train_images.reshape((60000,28*28))  #chỉnh lại kích thước số dữ liệu đầu vào \n",
        "train_images = train_images.astype('float32')/255   #chuyển qua float để có thể chia được (dữ liệu từ 0->1)\n",
        "\n",
        "test_images = test_images.reshape((10000,28*28))  \n",
        "test_images = test_images.astype('float32')/255\n",
        "\n",
        "print(train_images.shape)\n",
        "print(test_images.shape)"
      ],
      "metadata": {
        "colab": {
          "base_uri": "https://localhost:8080/"
        },
        "id": "M65K7sn3bEGV",
        "outputId": "95d01423-9cf3-4d64-825a-26c7302c231e"
      },
      "execution_count": null,
      "outputs": [
        {
          "output_type": "stream",
          "name": "stdout",
          "text": [
            "(60000, 784)\n",
            "(10000, 784)\n"
          ]
        }
      ]
    },
    {
      "cell_type": "code",
      "source": [
        "from keras.utils import to_categorical #lenh chuyen du lieu \n",
        "train_labels=to_categorical(train_labels,10) \n",
        "test_labels=to_categorical(test_labels,10) \n",
        "print(train_labels.shape)"
      ],
      "metadata": {
        "colab": {
          "base_uri": "https://localhost:8080/"
        },
        "id": "xvV0l4UHjFy-",
        "outputId": "81a53e69-2397-4c4c-9919-70c91c832c02"
      },
      "execution_count": null,
      "outputs": [
        {
          "output_type": "stream",
          "name": "stdout",
          "text": [
            "(60000, 10)\n"
          ]
        }
      ]
    },
    {
      "cell_type": "code",
      "source": [
        "model.compile(optimizer='rmsprop',loss='categorical_crossentropy',  \n",
        "              metrics=['accuracy']) \n",
        "model.fit(train_images,train_labels,epochs=20,batch_size=128)\n",
        "test_loss,test_acc=model.evaluate(test_images,test_labels)\n",
        "print('Do mat mat:',test_loss)\n",
        "print('Do chinh xac:', test_acc)\n"
      ],
      "metadata": {
        "colab": {
          "base_uri": "https://localhost:8080/"
        },
        "id": "09jY_lZ_d9Ia",
        "outputId": "857831bd-55ba-425c-de9c-2211ed6f68c2"
      },
      "execution_count": null,
      "outputs": [
        {
          "output_type": "stream",
          "name": "stdout",
          "text": [
            "Epoch 1/20\n",
            "469/469 [==============================] - 10s 18ms/step - loss: 0.2664 - accuracy: 0.9233\n",
            "Epoch 2/20\n",
            "469/469 [==============================] - 5s 11ms/step - loss: 0.1075 - accuracy: 0.9686\n",
            "Epoch 3/20\n",
            "469/469 [==============================] - 5s 10ms/step - loss: 0.0715 - accuracy: 0.9787\n",
            "Epoch 4/20\n",
            "469/469 [==============================] - 6s 12ms/step - loss: 0.0515 - accuracy: 0.9850\n",
            "Epoch 5/20\n",
            "469/469 [==============================] - 5s 10ms/step - loss: 0.0382 - accuracy: 0.9885\n",
            "Epoch 6/20\n",
            "469/469 [==============================] - 5s 11ms/step - loss: 0.0294 - accuracy: 0.9910\n",
            "Epoch 7/20\n",
            "469/469 [==============================] - 5s 11ms/step - loss: 0.0224 - accuracy: 0.9936\n",
            "Epoch 8/20\n",
            "469/469 [==============================] - 5s 11ms/step - loss: 0.0167 - accuracy: 0.9952\n",
            "Epoch 9/20\n",
            "469/469 [==============================] - 5s 11ms/step - loss: 0.0124 - accuracy: 0.9968\n",
            "Epoch 10/20\n",
            "469/469 [==============================] - 5s 10ms/step - loss: 0.0095 - accuracy: 0.9977\n",
            "Epoch 11/20\n",
            "469/469 [==============================] - 5s 10ms/step - loss: 0.0073 - accuracy: 0.9983\n",
            "Epoch 12/20\n",
            "469/469 [==============================] - 5s 11ms/step - loss: 0.0047 - accuracy: 0.9991\n",
            "Epoch 13/20\n",
            "469/469 [==============================] - 5s 10ms/step - loss: 0.0036 - accuracy: 0.9994\n",
            "Epoch 14/20\n",
            "469/469 [==============================] - 6s 12ms/step - loss: 0.0023 - accuracy: 0.9998\n",
            "Epoch 15/20\n",
            "469/469 [==============================] - 5s 10ms/step - loss: 0.0015 - accuracy: 0.9998\n",
            "Epoch 16/20\n",
            "469/469 [==============================] - 4s 10ms/step - loss: 0.0011 - accuracy: 0.9999\n",
            "Epoch 17/20\n",
            "469/469 [==============================] - 6s 12ms/step - loss: 7.2289e-04 - accuracy: 0.9999\n",
            "Epoch 18/20\n",
            "469/469 [==============================] - 5s 10ms/step - loss: 4.9019e-04 - accuracy: 1.0000\n",
            "Epoch 19/20\n",
            "469/469 [==============================] - 6s 12ms/step - loss: 3.9775e-04 - accuracy: 1.0000\n",
            "Epoch 20/20\n",
            "469/469 [==============================] - 5s 10ms/step - loss: 3.5415e-04 - accuracy: 1.0000\n",
            "313/313 [==============================] - 1s 3ms/step - loss: 0.0669 - accuracy: 0.9842\n",
            "Do mat mat: 0.06691644340753555\n",
            "Do chinh xac: 0.9842000007629395\n"
          ]
        }
      ]
    }
  ]
}